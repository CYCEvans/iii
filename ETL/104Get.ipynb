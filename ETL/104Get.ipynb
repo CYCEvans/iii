{
 "cells": [
  {
   "cell_type": "code",
   "execution_count": 1,
   "metadata": {
    "collapsed": true
   },
   "outputs": [],
   "source": [
    "import json\n",
    "import math\n",
    "from collections import Counter\n",
    "from urllib.request import urlopen\n",
    "import re\n",
    "\n",
    "from lxml import html\n",
    "from bs4 import BeautifulSoup\n",
    "import requests"
   ]
  },
  {
   "cell_type": "code",
   "execution_count": 2,
   "metadata": {
    "collapsed": true
   },
   "outputs": [],
   "source": [
    "def getTotalPage(href):\n",
    "    res = requests.get(href)\n",
    "    soup = BeautifulSoup(res.text, 'lxml')\n",
    "    numberReg = re.compile(r'(\\d+ )筆')\n",
    "    mo = numberReg.search(soup.select('ul > li.right')[0].text)\n",
    "    pageNum = int(mo.group(1))\n",
    "    totalPages = 150 if math.ceil(pageNum / 20) > 150 else math.ceil(pageNum / 20)\n",
    "    res.close()\n",
    "    return totalPages"
   ]
  },
  {
   "cell_type": "code",
   "execution_count": 5,
   "metadata": {},
   "outputs": [
    {
     "name": "stdout",
     "output_type": "stream",
     "text": [
      "2007001001 頁數為 40\n",
      "2007001002 頁數為 8\n",
      "2007001003 頁數為 69\n",
      "2007001004 頁數為 150\n",
      "2007001005 頁數為 89\n",
      "2007001006 頁數為 150\n",
      "2007001007 頁數為 59\n",
      "2007001008 頁數為 27\n",
      "2007001009 頁數為 39\n",
      "2007001010 頁數為 9\n",
      "2007001011 頁數為 4\n",
      "2007001012 頁數為 37\n"
     ]
    }
   ],
   "source": [
    "pagenumber = []\n",
    "pair = dict()\n",
    "start= 2007001000\n",
    "for n in range(1,13):\n",
    "    start += 1\n",
    "    herf = \"https://www.104.com.tw/jobbank/joblist/joblist.cfm?keyword=軟體設計工程師&jobsource=n104bank1&jobcat=\"+str(start)+\"&order=1&page=\"\n",
    "    number = getTotalPage(herf)\n",
    "    print(\"%d 頁數為 %d\"%(start,number))"
   ]
  },
  {
   "cell_type": "code",
   "execution_count": 3,
   "metadata": {
    "collapsed": true
   },
   "outputs": [],
   "source": [
    "href = \"https://www.104.com.tw/jobbank/joblist/joblist.cfm?keyword=軟體設計工程師&jobsource=n104bank1&jobcat=2007001001&order=1&page=\"\n",
    "res = requests.get(href)\n",
    "soup = BeautifulSoup(res.text, 'lxml')"
   ]
  },
  {
   "cell_type": "code",
   "execution_count": 4,
   "metadata": {},
   "outputs": [
    {
     "data": {
      "text/plain": [
       "['https://www.104.com.tw/job/?jobno=5jl00&jobsource=104_hotorder',\n",
       " 'https://www.104.com.tw/job/?jobno=59lb5&jobsource=n104bank1&hotjob_chr=',\n",
       " 'https://www.104.com.tw/job/?jobno=4z7ww&jobsource=n104bank1&hotjob_chr=',\n",
       " 'https://www.104.com.tw/job/?jobno=3ha2v&jobsource=n104bank1&hotjob_chr=',\n",
       " 'https://www.104.com.tw/job/?jobno=4twuk&jobsource=n104bank1&hotjob_chr=',\n",
       " 'https://www.104.com.tw/job/?jobno=5e76l&jobsource=n104bank1&hotjob_chr=',\n",
       " 'https://www.104.com.tw/job/?jobno=5h1cp&jobsource=n104bank1&hotjob_chr=',\n",
       " 'https://www.104.com.tw/job/?jobno=4j446&jobsource=n104bank1&hotjob_chr=',\n",
       " 'https://www.104.com.tw/job/?jobno=4s3s9&jobsource=n104bank1&hotjob_chr=',\n",
       " 'https://www.104.com.tw/job/?jobno=4gpqv&jobsource=n104bank1&hotjob_chr=',\n",
       " 'https://www.104.com.tw/job/?jobno=3mt96&jobsource=n104bank1&hotjob_chr=',\n",
       " 'https://www.104.com.tw/job/?jobno=51t32&jobsource=n104bank1&hotjob_chr=',\n",
       " 'https://www.104.com.tw/job/?jobno=53dyg&jobsource=n104bank1&hotjob_chr=',\n",
       " 'https://www.104.com.tw/job/?jobno=5jwlr&jobsource=n104bank1&hotjob_chr=',\n",
       " 'https://www.104.com.tw/job/?jobno=4sbuw&jobsource=n104bank1&hotjob_chr=',\n",
       " 'https://www.104.com.tw/job/?jobno=3t17f&jobsource=n104bank1&hotjob_chr=',\n",
       " 'https://www.104.com.tw/job/?jobno=3ftjb&jobsource=n104bank1&hotjob_chr=',\n",
       " 'https://www.104.com.tw/job/?jobno=2pm3l&jobsource=n104bank1&hotjob_chr=',\n",
       " 'https://www.104.com.tw/job/?jobno=2k58a&jobsource=n104bank1&hotjob_chr=',\n",
       " 'https://www.104.com.tw/job/?jobno=4zcoq&jobsource=n104bank1&hotjob_chr=',\n",
       " 'https://www.104.com.tw/job/?jobno=5dl34&jobsource=n104bank1&hotjob_chr=']"
      ]
     },
     "execution_count": 4,
     "metadata": {},
     "output_type": "execute_result"
    }
   ],
   "source": [
    "linkList = []\n",
    "jobList = soup.select(\"div.jobname_summary > a\")\n",
    "for job in jobList:\n",
    "    link =\"https://www.104.com.tw\"+job[\"href\"]\n",
    "    linkList.append(link)\n",
    "linkList"
   ]
  },
  {
   "cell_type": "code",
   "execution_count": 5,
   "metadata": {
    "collapsed": true
   },
   "outputs": [],
   "source": [
    "jobInfo =dict()\n",
    "link = linkList[3]\n",
    "res2 = requests.get(link)\n",
    "soup2 = BeautifulSoup(res2.text, 'lxml')"
   ]
  },
  {
   "cell_type": "code",
   "execution_count": 82,
   "metadata": {
    "collapsed": true
   },
   "outputs": [],
   "source": [
    "jobInfo[\"title\"] = soup2.select_one(\"header > div > h1\").contents[0].replace(\"\\r\\n\",\"\").strip(\" \")\n",
    "jobInfo[\"company\"] = soup2.select_one(\"a.cn\").text\n",
    "jobInfo[\"content\"] = soup2.select_one(\"div.content > p\").text.replace(\"\\r\",\"\").replace(\" \",\"\")\n",
    "jobInfo[\"tools\"] = soup2.select(\"dd.tool\")[0].text\n",
    "jobInfo[\"skills\"] = soup2.select(\"dd.tool\")[1].text\n",
    "jobInfo[\"post_date\"] = soup2.select_one(\"time.update\").text.split(\"：\")[1]\n",
    "jobInfo[\"other_condition\"] = soup2.select(\"section.info\")[1].select(\"dl > dd \")[-1].text.replace(\"\\r\",\"\").replace(\" \",\"\")"
   ]
  },
  {
   "cell_type": "code",
   "execution_count": 83,
   "metadata": {
    "collapsed": true
   },
   "outputs": [],
   "source": [
    "with open('data.json', 'w') as f:\n",
    "    json.dump(jobInfo, f)"
   ]
  },
  {
   "cell_type": "code",
   "execution_count": null,
   "metadata": {
    "collapsed": true
   },
   "outputs": [],
   "source": []
  }
 ],
 "metadata": {
  "kernelspec": {
   "display_name": "Python 3",
   "language": "python",
   "name": "python3"
  },
  "language_info": {
   "codemirror_mode": {
    "name": "ipython",
    "version": 3
   },
   "file_extension": ".py",
   "mimetype": "text/x-python",
   "name": "python",
   "nbconvert_exporter": "python",
   "pygments_lexer": "ipython3",
   "version": "3.6.1"
  }
 },
 "nbformat": 4,
 "nbformat_minor": 2
}
