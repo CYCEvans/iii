{
 "cells": [
  {
   "cell_type": "code",
   "execution_count": 1,
   "metadata": {
    "collapsed": true
   },
   "outputs": [],
   "source": [
    "import json\n",
    "import math\n",
    "import re\n",
    "import time\n",
    "\n",
    "from lxml import html\n",
    "from bs4 import BeautifulSoup\n",
    "import requests"
   ]
  },
  {
   "cell_type": "code",
   "execution_count": 2,
   "metadata": {
    "collapsed": true
   },
   "outputs": [],
   "source": [
    "href = \"https://www.1111.com.tw/job-bank/job-index.asp?si=1&ks=程式設計師&d0=140200&ps=100&page=1\""
   ]
  },
  {
   "cell_type": "code",
   "execution_count": 3,
   "metadata": {},
   "outputs": [
    {
     "data": {
      "text/plain": [
       "16"
      ]
     },
     "execution_count": 3,
     "metadata": {},
     "output_type": "execute_result"
    }
   ],
   "source": [
    "res = requests.get(href)\n",
    "soup = BeautifulSoup(res.text,\"lxml\")\n",
    "numberReg = re.compile(r'(\\d+) 頁')\n",
    "mo = numberReg.search(soup.select_one(\"div.pagedata\").text)\n",
    "pageNum = int(mo.group(1))\n",
    "pageNum"
   ]
  },
  {
   "cell_type": "code",
   "execution_count": 4,
   "metadata": {
    "collapsed": true
   },
   "outputs": [],
   "source": [
    "linkList = []\n",
    "jobList = soup.select(\"div.jbInfo > div > h3 > a\")\n",
    "for job in jobList:\n",
    "    link = \"http:\"+job[\"href\"]\n",
    "    linkList.append(link)\n",
    "link = linkList[2]"
   ]
  },
  {
   "cell_type": "code",
   "execution_count": 5,
   "metadata": {
    "collapsed": true
   },
   "outputs": [],
   "source": [
    "jobInfo = dict()\n",
    "res2 = requests.get(link)\n",
    "soup2 = BeautifulSoup(res2.text, 'lxml')\n",
    "tree = html.fromstring(res2.content)"
   ]
  },
  {
   "cell_type": "code",
   "execution_count": 6,
   "metadata": {},
   "outputs": [
    {
     "data": {
      "text/plain": [
       "'1.3年以上期貨或證券系統開發或維護經驗\\xa02.熟COBOL者佳\\xa03.細心負責、有良好的溝通技巧，可獨立作業'"
      ]
     },
     "execution_count": 6,
     "metadata": {},
     "output_type": "execute_result"
    }
   ],
   "source": [
    "x = soup2.select(\"ul.dataList\")[1].select(\"div.listTitle\")[-1]\n",
    "x.find_next_sibling().text"
   ]
  },
  {
   "cell_type": "code",
   "execution_count": 7,
   "metadata": {
    "collapsed": true
   },
   "outputs": [],
   "source": [
    "jobInfo[\"title\"] = soup2.select_one(\"h1\").contents[0]\n",
    "jobInfo[\"company\"] = soup2.select_one(\"li.ellipsis\").text\n",
    "jobInfo[\"content\"] = soup2.select_one(\"li.paddingLB\").text.replace(\"\\xa0\",\"\")\n",
    "dateReg = re.compile(r'：(\\d+\\/\\d+\\/\\d+)')\n",
    "mo2 = dateReg.search(soup2.select_one(\"span.update\").text)\n",
    "jobInfo[\"post_date\"] = mo2.group(1)\n",
    "skills = tree.xpath(\"//div[contains(text(), '電腦專長：')]/following-sibling::div\")\n",
    "if skills != [] :\n",
    "    jobInfo[\"skills\"] = skills[0].text\n",
    "else:\n",
    "    jobInfo[\"skills\"] = \"\"\n",
    "other_condition_tag = tree.xpath(\"//div[contains(text(), '附加條件：')]/following-sibling::div\")\n",
    "if other_condition_tag != []:\n",
    "    other_condition= \"\".join([one.text for one in other_condition_tag[0]] )\n",
    "    jobInfo[\"other_condition\"] = other_condition.replace(\"\\xa0\",\"\").replace(\"\\u3000\",\"\")\n",
    "else:\n",
    "    jobInfo[\"other_condition\"] = \"\""
   ]
  },
  {
   "cell_type": "code",
   "execution_count": 8,
   "metadata": {},
   "outputs": [
    {
     "data": {
      "text/plain": [
       "{'company': '華南永昌綜合證券股份有限公司',\n",
       " 'content': '1.TANDEM COBOL程式設計2.負責軟體之分析、設計以及程式撰寫',\n",
       " 'other_condition': '1.3年以上期貨或證券系統開發或維護經驗2.熟COBOL者佳3.細心負責、有良好的溝通技巧，可獨立作業',\n",
       " 'post_date': '2017/7/17',\n",
       " 'skills': '',\n",
       " 'title': '程式設計師'}"
      ]
     },
     "execution_count": 8,
     "metadata": {},
     "output_type": "execute_result"
    }
   ],
   "source": [
    "jobInfo"
   ]
  },
  {
   "cell_type": "code",
   "execution_count": 13,
   "metadata": {},
   "outputs": [
    {
     "data": {
      "text/plain": [
       "'Tue Jul 18 09:00:00 2017'"
      ]
     },
     "execution_count": 13,
     "metadata": {},
     "output_type": "execute_result"
    }
   ],
   "source": [
    "now=time.ctime()\n",
    "# time.sleep(5)\n",
    "# end=time.localtime()\n",
    "now \n",
    "# end - now"
   ]
  }
 ],
 "metadata": {
  "kernelspec": {
   "display_name": "Python 3",
   "language": "python",
   "name": "python3"
  },
  "language_info": {
   "codemirror_mode": {
    "name": "ipython",
    "version": 3
   },
   "file_extension": ".py",
   "mimetype": "text/x-python",
   "name": "python",
   "nbconvert_exporter": "python",
   "pygments_lexer": "ipython3",
   "version": "3.6.1"
  }
 },
 "nbformat": 4,
 "nbformat_minor": 2
}
