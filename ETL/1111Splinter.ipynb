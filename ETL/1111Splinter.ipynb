{
 "cells": [
  {
   "cell_type": "code",
   "execution_count": 19,
   "metadata": {
    "collapsed": true
   },
   "outputs": [],
   "source": [
    "from selenium import webdriver\n",
    "chrome_path = \"D:\\chromedriver\\chromedriver.exe\"\n",
    "web = webdriver.Chrome(chrome_path)\n",
    "web.get(\"https://www.1111.com.tw/\")\n",
    "web.set_window_position(0,0) #瀏覽器位置\n",
    "web.set_window_size(700,700) #瀏覽器大小"
   ]
  },
  {
   "cell_type": "code",
   "execution_count": 67,
   "metadata": {
    "collapsed": true
   },
   "outputs": [],
   "source": [
    "from splinter import Browser\n",
    "executablePath = {'executable_path':r'D:\\chromedriver\\chromedriver.exe'}\n",
    "browser = Browser('chrome', **executablePath)\n",
    "browser.visit(\"https://www.1111.com.tw/\")"
   ]
  },
  {
   "cell_type": "code",
   "execution_count": 68,
   "metadata": {
    "collapsed": true
   },
   "outputs": [],
   "source": [
    "browser.click_link_by_id(\"searchjobGo\")"
   ]
  },
  {
   "cell_type": "code",
   "execution_count": 69,
   "metadata": {
    "collapsed": true
   },
   "outputs": [],
   "source": [
    "browser.fill('ks', '軟體設計工程師')"
   ]
  },
  {
   "cell_type": "code",
   "execution_count": 70,
   "metadata": {
    "collapsed": true
   },
   "outputs": [],
   "source": [
    "browser.click_link_by_id(\"findjob\")"
   ]
  },
  {
   "cell_type": "code",
   "execution_count": 71,
   "metadata": {
    "collapsed": true
   },
   "outputs": [],
   "source": [
    "elem = browser.find_by_css(\"div.pagedata\")"
   ]
  },
  {
   "cell_type": "code",
   "execution_count": 72,
   "metadata": {
    "collapsed": true
   },
   "outputs": [],
   "source": [
    "import re"
   ]
  },
  {
   "cell_type": "code",
   "execution_count": 73,
   "metadata": {},
   "outputs": [
    {
     "data": {
      "text/plain": [
       "'第 1 / 150 頁，共 3,954 筆'"
      ]
     },
     "execution_count": 73,
     "metadata": {},
     "output_type": "execute_result"
    }
   ],
   "source": [
    "elem.text"
   ]
  },
  {
   "cell_type": "code",
   "execution_count": 74,
   "metadata": {},
   "outputs": [
    {
     "data": {
      "text/plain": [
       "' 150 '"
      ]
     },
     "execution_count": 74,
     "metadata": {},
     "output_type": "execute_result"
    }
   ],
   "source": [
    "elem.text.split(\"/\")[1].split(\"頁\")[0]"
   ]
  },
  {
   "cell_type": "code",
   "execution_count": 75,
   "metadata": {
    "collapsed": true
   },
   "outputs": [],
   "source": [
    "regex = re.compile('//www.1111.com.tw/job/\\d{8}/')"
   ]
  },
  {
   "cell_type": "code",
   "execution_count": 76,
   "metadata": {
    "collapsed": true
   },
   "outputs": [],
   "source": [
    "jobsSet=set()"
   ]
  },
  {
   "cell_type": "code",
   "execution_count": 77,
   "metadata": {
    "collapsed": true
   },
   "outputs": [],
   "source": [
    "for n in browser.find_by_tag(\"a\"):\n",
    "    if regex.search(n[\"href\"]):\n",
    "        jobsSet.add(n[\"href\"])\n"
   ]
  },
  {
   "cell_type": "code",
   "execution_count": 78,
   "metadata": {},
   "outputs": [
    {
     "name": "stdout",
     "output_type": "stream",
     "text": [
      "{'https://www.1111.com.tw/job/79818346/', 'https://www.1111.com.tw/job/79811517/', 'https://www.1111.com.tw/job/79837831/', 'https://www.1111.com.tw/job/79770533/', 'https://www.1111.com.tw/job/79951921/', 'https://www.1111.com.tw/job/75585457/', 'https://www.1111.com.tw/job/79552073/', 'https://www.1111.com.tw/job/55220674/', 'https://www.1111.com.tw/job/78370178/', 'https://www.1111.com.tw/job/79783352/', 'https://www.1111.com.tw/job/79854544/', 'https://www.1111.com.tw/job/76737542/', 'https://www.1111.com.tw/job/79955351/', 'https://www.1111.com.tw/job/79848714/', 'https://www.1111.com.tw/job/80037586/', 'https://www.1111.com.tw/job/78324324/', 'https://www.1111.com.tw/job/76385440/', 'https://www.1111.com.tw/job/79858353/', 'https://www.1111.com.tw/job/57520191/', 'https://www.1111.com.tw/job/76035582/', 'https://www.1111.com.tw/job/79884273/', 'https://www.1111.com.tw/job/79848742/', 'https://www.1111.com.tw/job/70710780/', 'https://www.1111.com.tw/job/77803797/'}\n"
     ]
    }
   ],
   "source": [
    "print(jobsSet)"
   ]
  },
  {
   "cell_type": "code",
   "execution_count": 22,
   "metadata": {},
   "outputs": [
    {
     "data": {
      "text/plain": [
       "'//www.1111.com.tw/job/79770533/'"
      ]
     },
     "execution_count": 22,
     "metadata": {},
     "output_type": "execute_result"
    }
   ],
   "source": [
    "jobsSet.pop().replace(\"https:\",\"\")"
   ]
  },
  {
   "cell_type": "code",
   "execution_count": 79,
   "metadata": {
    "collapsed": true
   },
   "outputs": [],
   "source": [
    "browser.click_link_by_href(jobsSet.pop().replace(\"https:\",\"\"))"
   ]
  },
  {
   "cell_type": "code",
   "execution_count": 80,
   "metadata": {
    "collapsed": true
   },
   "outputs": [],
   "source": [
    "browser.windows[1].is_current = True"
   ]
  },
  {
   "cell_type": "code",
   "execution_count": 52,
   "metadata": {
    "collapsed": true
   },
   "outputs": [],
   "source": [
    "# elems = browser.find_by_css(\"ul.dataList\")\n",
    "# elems[1].text.replace(\"\\n\",\"\").replace(\" \",\"\").split(\"電腦專長：\")[1].split(\"附加\")[0]"
   ]
  },
  {
   "cell_type": "code",
   "execution_count": 19,
   "metadata": {
    "collapsed": true
   },
   "outputs": [],
   "source": [
    "elems=browser.find_by_xpath(\"//div[contains(text(), '電腦專長：')]/following-sibling::div\")"
   ]
  },
  {
   "cell_type": "code",
   "execution_count": 20,
   "metadata": {},
   "outputs": [
    {
     "data": {
      "text/plain": [
       "'C/C++、JAVA、Java Script'"
      ]
     },
     "execution_count": 20,
     "metadata": {},
     "output_type": "execute_result"
    }
   ],
   "source": [
    "elems.text"
   ]
  },
  {
   "cell_type": "code",
   "execution_count": null,
   "metadata": {
    "collapsed": true
   },
   "outputs": [],
   "source": [
    "browser.windows.current.close()"
   ]
  }
 ],
 "metadata": {
  "kernelspec": {
   "display_name": "Python 3",
   "language": "python",
   "name": "python3"
  },
  "language_info": {
   "codemirror_mode": {
    "name": "ipython",
    "version": 3
   },
   "file_extension": ".py",
   "mimetype": "text/x-python",
   "name": "python",
   "nbconvert_exporter": "python",
   "pygments_lexer": "ipython3",
   "version": "3.6.1"
  }
 },
 "nbformat": 4,
 "nbformat_minor": 2
}
