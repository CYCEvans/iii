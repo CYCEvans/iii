{
 "cells": [
  {
   "cell_type": "code",
   "execution_count": 1,
   "metadata": {
    "collapsed": true
   },
   "outputs": [],
   "source": [
    "import json\n",
    "import math\n",
    "import re\n",
    "import time\n",
    "\n",
    "from lxml import html\n",
    "from bs4 import BeautifulSoup\n",
    "import requests"
   ]
  },
  {
   "cell_type": "code",
   "execution_count": 2,
   "metadata": {
    "collapsed": true
   },
   "outputs": [],
   "source": [
    "href = \"https://www.518.com.tw/job-index-P-1.html?ad=軟體設計工程師&ab=2032001\"\n",
    "#ad = Keyword , ab = 職業類別 2032001"
   ]
  },
  {
   "cell_type": "code",
   "execution_count": 8,
   "metadata": {},
   "outputs": [
    {
     "data": {
      "text/plain": [
       "'第1 / 21頁'"
      ]
     },
     "execution_count": 8,
     "metadata": {},
     "output_type": "execute_result"
    }
   ],
   "source": [
    "res = requests.get(href)\n",
    "soup = BeautifulSoup(res.text,\"lxml\")\n",
    "\n",
    "numberReg = re.compile(r'(\\d+)頁')\n",
    "mo = numberReg.search(soup.select_one(\"div#linkpage > span.pagecountnum\").text)\n",
    "pageNum = int(mo.group(1))"
   ]
  },
  {
   "cell_type": "code",
   "execution_count": 10,
   "metadata": {},
   "outputs": [],
   "source": [
    "linkList = []\n",
    "jobList = soup.select(\"li.title > a\")\n",
    "for job in jobList:\n",
    "    linkList.append(job[\"href\"])\n",
    "link = linkList[4]"
   ]
  },
  {
   "cell_type": "code",
   "execution_count": 11,
   "metadata": {
    "collapsed": true
   },
   "outputs": [],
   "source": [
    "jobInfo = dict()\n",
    "res2 = requests.get(link)\n",
    "soup2 = BeautifulSoup(res2.text, 'lxml')\n",
    "tree = html.fromstring(res2.content)\n"
   ]
  },
  {
   "cell_type": "code",
   "execution_count": 86,
   "metadata": {
    "collapsed": true
   },
   "outputs": [],
   "source": [
    "jobInfo[\"title\"] = soup2.select_one(\".job-title\").text\n",
    "jobInfo[\"company\"] = soup2.select_one(\"h3 > a\")[\"title\"]\n",
    "jobInfo[\"content\"] = soup2.select_one(\"div.JobDescription\").text.replace(\"\\n\",\"\").replace(\"\\r\",\"\")\n",
    "jobInfo[\"post_date\"] = soup2.select_one(\"time\").text.split(\":\")[1]\n",
    "jobInfo[\"tools\"] = tree.xpath(\"//dt[contains(text(), '擅長工具：')]/following-sibling::dd\")[0].text\n",
    "jobInfo[\"skills\"] = tree.xpath(\"//dt[contains(text(), '工作技能：')]/following-sibling::dd\")[0].text\n",
    "jobInfo[\"other_condition\"] = tree.xpath(\"//dt[contains(text(), '其他條件：')]/following-sibling::dd\")[0].text"
   ]
  },
  {
   "cell_type": "code",
   "execution_count": 87,
   "metadata": {},
   "outputs": [
    {
     "data": {
      "text/plain": [
       "{'company': '全都通科技股份有限公司',\n",
       " 'content': '1. 負責APP軟體的分析、設計、程式撰寫與維護，並進行軟體的測試與修改，以及控管軟體設計進度。',\n",
       " 'other_condition': 'JSON,xcode',\n",
       " 'post_date': '2017-07-18',\n",
       " 'skills': '軟體程式設計、模組化系統設計、資料庫程式設計',\n",
       " 'title': 'APP軟體工程師',\n",
       " 'tools': 'PHP、Objective-C、XML、CSS'}"
      ]
     },
     "execution_count": 87,
     "metadata": {},
     "output_type": "execute_result"
    }
   ],
   "source": [
    "jobInfo"
   ]
  },
  {
   "cell_type": "code",
   "execution_count": null,
   "metadata": {
    "collapsed": true
   },
   "outputs": [],
   "source": []
  }
 ],
 "metadata": {
  "kernelspec": {
   "display_name": "Python 3",
   "language": "python",
   "name": "python3"
  },
  "language_info": {
   "codemirror_mode": {
    "name": "ipython",
    "version": 3
   },
   "file_extension": ".py",
   "mimetype": "text/x-python",
   "name": "python",
   "nbconvert_exporter": "python",
   "pygments_lexer": "ipython3",
   "version": "3.6.1"
  }
 },
 "nbformat": 4,
 "nbformat_minor": 2
}
